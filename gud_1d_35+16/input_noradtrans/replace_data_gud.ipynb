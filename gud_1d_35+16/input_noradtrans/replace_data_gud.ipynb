{
 "cells": [
  {
   "cell_type": "markdown",
   "id": "0230415b",
   "metadata": {},
   "source": [
    "# Replace in data.gud"
   ]
  },
  {
   "cell_type": "markdown",
   "id": "eb4fe723",
   "metadata": {},
   "source": [
    "Reference: https://stackoverflow.com/questions/17140886/how-to-search-and-replace-text-in-a-file,\n",
    "answer by Jack Aidley"
   ]
  },
  {
   "cell_type": "code",
   "execution_count": 1,
   "id": "9910c440",
   "metadata": {},
   "outputs": [],
   "source": [
    "file_list=['data.gud.grp_Xmin.0',\n",
    "           'data.gud.grp_Xmin.1E0',\n",
    "           'data.gud.grp_Xmin.1Eminus1',\n",
    "           'data.gud.grp_Xmin.1Eminus2.default',\n",
    "           'data.gud.grp_Xmin.1Eminus3',\n",
    "           'data.gud.grp_Xmin.1Eminus4']"
   ]
  },
  {
   "cell_type": "code",
   "execution_count": 2,
   "id": "a8019cdf",
   "metadata": {},
   "outputs": [],
   "source": [
    "for f in file_list:\n",
    "    # Read in the file\n",
    "    with open(f, 'r') as file :\n",
    "        filedata = file.read()\n",
    "\n",
    "    # Replace the target string\n",
    "    filedata = filedata.replace('PARice', 'PARice_EXP0')\n",
    "\n",
    "    # Write the file out again\n",
    "    with open(f, 'w') as file:\n",
    "        file.write(filedata)"
   ]
  }
 ],
 "metadata": {
  "kernelspec": {
   "display_name": "Python 3 (ipykernel)",
   "language": "python",
   "name": "python3"
  },
  "language_info": {
   "codemirror_mode": {
    "name": "ipython",
    "version": 3
   },
   "file_extension": ".py",
   "mimetype": "text/x-python",
   "name": "python",
   "nbconvert_exporter": "python",
   "pygments_lexer": "ipython3",
   "version": "3.7.12"
  }
 },
 "nbformat": 4,
 "nbformat_minor": 5
}
